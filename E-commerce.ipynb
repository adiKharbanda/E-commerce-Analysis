{
 "cells": [
  {
   "cell_type": "markdown",
   "metadata": {},
   "source": [
    "# Bee Corp Quant Data Analysis"
   ]
  },
  {
   "cell_type": "code",
   "execution_count": 278,
   "metadata": {
    "collapsed": true
   },
   "outputs": [],
   "source": [
    "import pandas as pd\n",
    "import numpy as np\n",
    "import matplotlib.pyplot as plt\n",
    "import seaborn as sns\n",
    "%matplotlib inline\n",
    "import datetime as dt \n",
    "import calendar"
   ]
  },
  {
   "cell_type": "code",
   "execution_count": 279,
   "metadata": {
    "collapsed": false
   },
   "outputs": [],
   "source": [
    "# read the dataset\n",
    "quant_df = pd.read_excel('Quant Round.xlsx')"
   ]
  },
  {
   "cell_type": "markdown",
   "metadata": {},
   "source": [
    "## Exploratory Anaysis"
   ]
  },
  {
   "cell_type": "code",
   "execution_count": 280,
   "metadata": {
    "collapsed": false
   },
   "outputs": [
    {
     "data": {
      "text/html": [
       "<div>\n",
       "<table border=\"1\" class=\"dataframe\">\n",
       "  <thead>\n",
       "    <tr style=\"text-align: right;\">\n",
       "      <th></th>\n",
       "      <th>Row ID</th>\n",
       "      <th>Order ID</th>\n",
       "      <th>Order Date</th>\n",
       "      <th>Ship Date</th>\n",
       "      <th>Ship Mode</th>\n",
       "      <th>Customer ID</th>\n",
       "      <th>Customer Name</th>\n",
       "      <th>Segment</th>\n",
       "      <th>Country</th>\n",
       "      <th>City</th>\n",
       "      <th>...</th>\n",
       "      <th>Region</th>\n",
       "      <th>Product ID</th>\n",
       "      <th>Category</th>\n",
       "      <th>Sub-Category</th>\n",
       "      <th>Product Name</th>\n",
       "      <th>Item Price</th>\n",
       "      <th>Quantity</th>\n",
       "      <th>SalesTotal</th>\n",
       "      <th>Discount</th>\n",
       "      <th>Profit</th>\n",
       "    </tr>\n",
       "  </thead>\n",
       "  <tbody>\n",
       "    <tr>\n",
       "      <th>0</th>\n",
       "      <td>2718</td>\n",
       "      <td>CA-2011-100006</td>\n",
       "      <td>2013-09-07</td>\n",
       "      <td>41530</td>\n",
       "      <td>Standard Class</td>\n",
       "      <td>DK-13375</td>\n",
       "      <td>Dennis Kane</td>\n",
       "      <td>Consumer</td>\n",
       "      <td>United States</td>\n",
       "      <td>New York City</td>\n",
       "      <td>...</td>\n",
       "      <td>East</td>\n",
       "      <td>TEC-PH-10002075</td>\n",
       "      <td>Technology</td>\n",
       "      <td>Phones</td>\n",
       "      <td>AT&amp;T EL51110 DECT</td>\n",
       "      <td>125.990</td>\n",
       "      <td>3</td>\n",
       "      <td>377.970</td>\n",
       "      <td>0.0</td>\n",
       "      <td>109.6113</td>\n",
       "    </tr>\n",
       "    <tr>\n",
       "      <th>1</th>\n",
       "      <td>6288</td>\n",
       "      <td>CA-2011-100090</td>\n",
       "      <td>2013-07-08</td>\n",
       "      <td>41467</td>\n",
       "      <td>Standard Class</td>\n",
       "      <td>EB-13705</td>\n",
       "      <td>Ed Braxton</td>\n",
       "      <td>Corporate</td>\n",
       "      <td>United States</td>\n",
       "      <td>San Francisco</td>\n",
       "      <td>...</td>\n",
       "      <td>West</td>\n",
       "      <td>FUR-TA-10003715</td>\n",
       "      <td>Furniture</td>\n",
       "      <td>Tables</td>\n",
       "      <td>Hon 2111 Invitation Series Corner Table</td>\n",
       "      <td>167.496</td>\n",
       "      <td>3</td>\n",
       "      <td>502.488</td>\n",
       "      <td>0.2</td>\n",
       "      <td>-87.9354</td>\n",
       "    </tr>\n",
       "  </tbody>\n",
       "</table>\n",
       "<p>2 rows × 22 columns</p>\n",
       "</div>"
      ],
      "text/plain": [
       "   Row ID        Order ID Order Date  Ship Date       Ship Mode Customer ID  \\\n",
       "0    2718  CA-2011-100006 2013-09-07      41530  Standard Class    DK-13375   \n",
       "1    6288  CA-2011-100090 2013-07-08      41467  Standard Class    EB-13705   \n",
       "\n",
       "  Customer Name    Segment        Country           City    ...    Region  \\\n",
       "0   Dennis Kane   Consumer  United States  New York City    ...      East   \n",
       "1    Ed Braxton  Corporate  United States  San Francisco    ...      West   \n",
       "\n",
       "        Product ID    Category Sub-Category  \\\n",
       "0  TEC-PH-10002075  Technology       Phones   \n",
       "1  FUR-TA-10003715   Furniture       Tables   \n",
       "\n",
       "                              Product Name Item Price   Quantity  SalesTotal  \\\n",
       "0                        AT&T EL51110 DECT      125.990        3     377.970   \n",
       "1  Hon 2111 Invitation Series Corner Table      167.496        3     502.488   \n",
       "\n",
       "   Discount    Profit  \n",
       "0       0.0  109.6113  \n",
       "1       0.2  -87.9354  \n",
       "\n",
       "[2 rows x 22 columns]"
      ]
     },
     "execution_count": 280,
     "metadata": {},
     "output_type": "execute_result"
    }
   ],
   "source": [
    "quant_df.head(2)"
   ]
  },
  {
   "cell_type": "code",
   "execution_count": null,
   "metadata": {
    "collapsed": false
   },
   "outputs": [],
   "source": [
    "quant_df.info()"
   ]
  },
  {
   "cell_type": "code",
   "execution_count": null,
   "metadata": {
    "collapsed": false
   },
   "outputs": [],
   "source": [
    "quant_df.describe()"
   ]
  },
  {
   "cell_type": "code",
   "execution_count": null,
   "metadata": {
    "collapsed": false
   },
   "outputs": [],
   "source": [
    "# Check if there are any null values in the dataset\n",
    "quant_df.isnull().sum()"
   ]
  },
  {
   "cell_type": "code",
   "execution_count": 287,
   "metadata": {
    "collapsed": false
   },
   "outputs": [
    {
     "data": {
      "text/html": [
       "<div>\n",
       "<table border=\"1\" class=\"dataframe\">\n",
       "  <thead>\n",
       "    <tr style=\"text-align: right;\">\n",
       "      <th></th>\n",
       "      <th>Row ID</th>\n",
       "      <th>Order ID</th>\n",
       "      <th>Order Date</th>\n",
       "      <th>Ship Date</th>\n",
       "      <th>Ship Mode</th>\n",
       "      <th>Customer ID</th>\n",
       "      <th>Customer Name</th>\n",
       "      <th>Segment</th>\n",
       "      <th>Country</th>\n",
       "      <th>City</th>\n",
       "      <th>...</th>\n",
       "      <th>Category</th>\n",
       "      <th>Sub-Category</th>\n",
       "      <th>Product Name</th>\n",
       "      <th>Item Price</th>\n",
       "      <th>Quantity</th>\n",
       "      <th>SalesTotal</th>\n",
       "      <th>Discount</th>\n",
       "      <th>Profit</th>\n",
       "      <th>Order month</th>\n",
       "      <th>Order year</th>\n",
       "    </tr>\n",
       "  </thead>\n",
       "  <tbody>\n",
       "    <tr>\n",
       "      <th>0</th>\n",
       "      <td>2718</td>\n",
       "      <td>CA-2011-100006</td>\n",
       "      <td>2013-09-07</td>\n",
       "      <td>41530</td>\n",
       "      <td>Standard Class</td>\n",
       "      <td>DK-13375</td>\n",
       "      <td>Dennis Kane</td>\n",
       "      <td>Consumer</td>\n",
       "      <td>United States</td>\n",
       "      <td>New York City</td>\n",
       "      <td>...</td>\n",
       "      <td>Technology</td>\n",
       "      <td>Phones</td>\n",
       "      <td>AT&amp;T EL51110 DECT</td>\n",
       "      <td>125.990</td>\n",
       "      <td>3</td>\n",
       "      <td>377.970</td>\n",
       "      <td>0.0</td>\n",
       "      <td>109.6113</td>\n",
       "      <td>Sep</td>\n",
       "      <td>2013</td>\n",
       "    </tr>\n",
       "    <tr>\n",
       "      <th>1</th>\n",
       "      <td>6288</td>\n",
       "      <td>CA-2011-100090</td>\n",
       "      <td>2013-07-08</td>\n",
       "      <td>41467</td>\n",
       "      <td>Standard Class</td>\n",
       "      <td>EB-13705</td>\n",
       "      <td>Ed Braxton</td>\n",
       "      <td>Corporate</td>\n",
       "      <td>United States</td>\n",
       "      <td>San Francisco</td>\n",
       "      <td>...</td>\n",
       "      <td>Furniture</td>\n",
       "      <td>Tables</td>\n",
       "      <td>Hon 2111 Invitation Series Corner Table</td>\n",
       "      <td>167.496</td>\n",
       "      <td>3</td>\n",
       "      <td>502.488</td>\n",
       "      <td>0.2</td>\n",
       "      <td>-87.9354</td>\n",
       "      <td>Jul</td>\n",
       "      <td>2013</td>\n",
       "    </tr>\n",
       "  </tbody>\n",
       "</table>\n",
       "<p>2 rows × 24 columns</p>\n",
       "</div>"
      ],
      "text/plain": [
       "   Row ID        Order ID Order Date  Ship Date       Ship Mode Customer ID  \\\n",
       "0    2718  CA-2011-100006 2013-09-07      41530  Standard Class    DK-13375   \n",
       "1    6288  CA-2011-100090 2013-07-08      41467  Standard Class    EB-13705   \n",
       "\n",
       "  Customer Name    Segment        Country           City     ...      \\\n",
       "0   Dennis Kane   Consumer  United States  New York City     ...       \n",
       "1    Ed Braxton  Corporate  United States  San Francisco     ...       \n",
       "\n",
       "     Category  Sub-Category                             Product Name  \\\n",
       "0  Technology        Phones                        AT&T EL51110 DECT   \n",
       "1   Furniture        Tables  Hon 2111 Invitation Series Corner Table   \n",
       "\n",
       "  Item Price   Quantity SalesTotal Discount    Profit  Order month  Order year  \n",
       "0      125.990        3    377.970      0.0  109.6113          Sep        2013  \n",
       "1      167.496        3    502.488      0.2  -87.9354          Jul        2013  \n",
       "\n",
       "[2 rows x 24 columns]"
      ]
     },
     "execution_count": 287,
     "metadata": {},
     "output_type": "execute_result"
    }
   ],
   "source": [
    "quant_df['Order Date']\n",
    "quant_df['Order month'] = quant_df['Order Date'].dt.month\n",
    "quant_df['Order month'] = quant_df['Order month'].apply(lambda x: calendar.month_abbr[x])\n",
    "quant_df['Order year'] = quant_df['Order Date'].dt.year\n",
    "quant_df.head(2)"
   ]
  },
  {
   "cell_type": "markdown",
   "metadata": {},
   "source": [
    "## Region \n",
    "\n",
    "Customer Analytics\n",
    "### which region has the most customers?\n",
    "### region and type of customers\n",
    "### region and sales\n",
    "### in a region which states has the most customers\n",
    "\n",
    "Product Analytics\n",
    "### most popular product in each region\n",
    "### Top 5 products ordered by Corporate, consumer and home offices\n",
    "### Item earning maximum profit , item in loss in each region\n",
    "\n",
    "\n",
    "Order Analytics;\n",
    "### states and number of orders\n",
    "### states with highest sales"
   ]
  },
  {
   "cell_type": "markdown",
   "metadata": {},
   "source": [
    "## Region Analysis"
   ]
  },
  {
   "cell_type": "markdown",
   "metadata": {},
   "source": [
    "## Which region has the most customers"
   ]
  },
  {
   "cell_type": "code",
   "execution_count": 273,
   "metadata": {
    "collapsed": false
   },
   "outputs": [
    {
     "data": {
      "text/plain": [
       "[<matplotlib.text.Text at 0x16d494a8>, <matplotlib.text.Text at 0x16e0c908>]"
      ]
     },
     "execution_count": 273,
     "metadata": {},
     "output_type": "execute_result"
    },
    {
     "data": {
      "image/png": "[encoded data removed]",
      "text/plain": [
       "<matplotlib.figure.Figure at 0x139fe470>"
      ]
     },
     "metadata": {},
     "output_type": "display_data"
    }
   ],
   "source": [
    "customer_in_region = quant_df.groupby('Region')['Customer ID'].nunique().sort_values(ascending=False)\n",
    "customer_in_region_df = pd.DataFrame(customer_in_region)\n",
    "customer_in_region_df.reset_index(inplace=True)\n",
    "sns.barplot(x='Region', y='Customer ID', data=customer_in_region_df).set(ylabel = 'Customer count'\n",
    "                                                                         , title = 'Customer Count by region')"
   ]
  },
  {
   "cell_type": "markdown",
   "metadata": {},
   "source": [
    "## Which region has the most orders over all the years"
   ]
  },
  {
   "cell_type": "code",
   "execution_count": 281,
   "metadata": {
    "collapsed": false
   },
   "outputs": [
    {
     "data": {
      "text/plain": [
       "[<matplotlib.text.Text at 0x17798550>, <matplotlib.text.Text at 0x17852978>]"
      ]
     },
     "execution_count": 281,
     "metadata": {},
     "output_type": "execute_result"
    },
    {
     "data": {
      "image/png": "[encoded data removed]",
      "text/plain": [
       "<matplotlib.figure.Figure at 0x145619b0>"
      ]
     },
     "metadata": {},
     "output_type": "display_data"
    }
   ],
   "source": [
    "orders_by_region = quant_df.groupby(by='Region')['Order ID'].nunique().sort_values(ascending=False)\n",
    "orders_by_region_df = pd.DataFrame(orders_by_region)\n",
    "orders_by_region_df.reset_index(inplace=True)\n",
    "sns.barplot(x= 'Region',y='Order ID',data = orders_by_region_df).set(ylabel = 'Order Count',\n",
    "                                                                     title = 'Orders Count by region')"
   ]
  },
  {
   "cell_type": "markdown",
   "metadata": {},
   "source": [
    "## Which region has the most orders in recent year-2016"
   ]
  },
  {
   "cell_type": "code",
   "execution_count": 304,
   "metadata": {
    "collapsed": false
   },
   "outputs": [
    {
     "data": {
      "text/plain": [
       "Region\n",
       "West       313\n",
       "East       261\n",
       "Central    230\n",
       "South      147\n",
       "North       35\n",
       "Name: Order ID, dtype: int64"
      ]
     },
     "execution_count": 304,
     "metadata": {},
     "output_type": "execute_result"
    }
   ],
   "source": [
    "orders_by_region_2016 = quant_df[quant_df['Order year']==2013]\n",
    "orders_by_region_2016.groupby(by='Region')['Order ID'].nunique().sort_values(ascending=False)\n",
    "#orders_by_region_df = pd.DataFrame(orders_by_region)\n",
    "#orders_by_region_df.reset_index(inplace=True)\n",
    "#sns.barplot(x= 'Region',y='Order ID',data = orders_by_region_df).set(ylabel = 'Order Count',\n",
    "#                                                                     title = 'Orders Count by region')\n",
    "#orders_by_region_2016"
   ]
  },
  {
   "cell_type": "markdown",
   "metadata": {},
   "source": [
    "## Region with highest sales"
   ]
  },
  {
   "cell_type": "code",
   "execution_count": null,
   "metadata": {
    "collapsed": false
   },
   "outputs": [],
   "source": [
    "sales_by_region = quant_df.groupby(by='Region')['SalesTotal'].sum().sort_values(ascending=False)\n",
    "sales_by_region_df = pd.DataFrame(sales_by_region)\n",
    "sales_by_region_df.reset_index(inplace=True)\n",
    "sns.barplot(x='Region', y='SalesTotal',data = sales_by_region_df).set(ylabel='Sales Total Count', \n",
    "                                                                  title='Sales by region')"
   ]
  },
  {
   "cell_type": "markdown",
   "metadata": {},
   "source": [
    "## Profit by region"
   ]
  },
  {
   "cell_type": "code",
   "execution_count": null,
   "metadata": {
    "collapsed": false
   },
   "outputs": [],
   "source": [
    "profit_by_region = quant_df.groupby(by='Region')['Profit'].sum().sort_values(ascending=False)\n",
    "profit_by_region_df = pd.DataFrame(profit_by_region)\n",
    "profit_by_region_df.reset_index(inplace=True)\n",
    "sns.barplot(x='Region', y='Profit',data = profit_by_region_df).set(ylabel='Profit', \n",
    "                                                                  title='profit by region')"
   ]
  },
  {
   "cell_type": "markdown",
   "metadata": {},
   "source": [
    "## Most popular type of customer segments in each region"
   ]
  },
  {
   "cell_type": "code",
   "execution_count": 305,
   "metadata": {
    "collapsed": false
   },
   "outputs": [
    {
     "data": {
      "text/plain": [
       "[<matplotlib.text.Text at 0x16ea0630>, <matplotlib.text.Text at 0x16eb5550>]"
      ]
     },
     "execution_count": 305,
     "metadata": {},
     "output_type": "execute_result"
    },
    {
     "data": {
      "image/png": "[encoded data removed]",
      "text/plain": [
       "<matplotlib.figure.Figure at 0x16ad0ef0>"
      ]
     },
     "metadata": {},
     "output_type": "display_data"
    }
   ],
   "source": [
    "csegments_in_region = quant_df.groupby(by =['Region','Segment'])['Customer ID'].nunique().sort_values(ascending=False)\n",
    "csegments_in_region_df = pd.DataFrame(csegments_in_region)\n",
    "csegments_in_region_df.reset_index(inplace=True)\n",
    "sns.barplot(x='Region', y='Customer ID', data=csegments_in_region_df, hue ='Segment').set(ylabel = 'Customer count'\n",
    "                                                                         , title = 'Customer Count by region')"
   ]
  },
  {
   "cell_type": "code",
   "execution_count": null,
   "metadata": {
    "collapsed": true
   },
   "outputs": [],
   "source": [
    "## Despite higher number of sales in Central region as compared to the South Region, South has higher profit than Central "
   ]
  },
  {
   "cell_type": "markdown",
   "metadata": {},
   "source": [
    "# Product Analytics"
   ]
  },
  {
   "cell_type": "markdown",
   "metadata": {},
   "source": [
    "### Most popular product category in every region"
   ]
  },
  {
   "cell_type": "code",
   "execution_count": 257,
   "metadata": {
    "collapsed": false
   },
   "outputs": [
    {
     "data": {
      "text/plain": [
       "[<matplotlib.text.Text at 0x167b5550>, <matplotlib.text.Text at 0x167bfb00>]"
      ]
     },
     "execution_count": 257,
     "metadata": {},
     "output_type": "execute_result"
    },
    {
     "data": {
      "image/png": "[encoded data removed]",
      "text/plain": [
       "<matplotlib.figure.Figure at 0x165b9c18>"
      ]
     },
     "metadata": {},
     "output_type": "display_data"
    }
   ],
   "source": [
    "popular_product_category = quant_df.groupby(by=['Region','Category'])['Quantity'].sum().sort_values(ascending=False)\n",
    "popular_product_category_df=pd.DataFrame(popular_product_category)\n",
    "popular_product_category_df.reset_index(inplace=True)\n",
    "popular_product_category_df=popular_product_category_df.groupby(['Region','Category'])['Quantity'].max()\n",
    "popular_product_category_df=pd.DataFrame(popular_product_category_df)\n",
    "popular_product_category_df.reset_index(inplace=True)\n",
    "sns.barplot(x='Region', y='Quantity', data =popular_product_category_df, hue='Category').set(title='Popular Product category in every region',\n",
    "                                                                                            ylabel='Quantity Purchase Count')\n"
   ]
  },
  {
   "cell_type": "code",
   "execution_count": 285,
   "metadata": {
    "collapsed": false
   },
   "outputs": [
    {
     "data": {
      "text/html": [
       "<div>\n",
       "<table border=\"1\" class=\"dataframe\">\n",
       "  <thead>\n",
       "    <tr style=\"text-align: right;\">\n",
       "      <th></th>\n",
       "      <th>Row ID</th>\n",
       "      <th>Order ID</th>\n",
       "      <th>Order Date</th>\n",
       "      <th>Ship Date</th>\n",
       "      <th>Ship Mode</th>\n",
       "      <th>Customer ID</th>\n",
       "      <th>Customer Name</th>\n",
       "      <th>Segment</th>\n",
       "      <th>Country</th>\n",
       "      <th>City</th>\n",
       "      <th>...</th>\n",
       "      <th>Category</th>\n",
       "      <th>Sub-Category</th>\n",
       "      <th>Product Name</th>\n",
       "      <th>Item Price</th>\n",
       "      <th>Quantity</th>\n",
       "      <th>SalesTotal</th>\n",
       "      <th>Discount</th>\n",
       "      <th>Profit</th>\n",
       "      <th>Order month</th>\n",
       "      <th>Order year</th>\n",
       "    </tr>\n",
       "  </thead>\n",
       "  <tbody>\n",
       "    <tr>\n",
       "      <th>0</th>\n",
       "      <td>2718</td>\n",
       "      <td>CA-2011-100006</td>\n",
       "      <td>2013-09-07</td>\n",
       "      <td>41530</td>\n",
       "      <td>Standard Class</td>\n",
       "      <td>DK-13375</td>\n",
       "      <td>Dennis Kane</td>\n",
       "      <td>Consumer</td>\n",
       "      <td>United States</td>\n",
       "      <td>New York City</td>\n",
       "      <td>...</td>\n",
       "      <td>Technology</td>\n",
       "      <td>Phones</td>\n",
       "      <td>AT&amp;T EL51110 DECT</td>\n",
       "      <td>125.990</td>\n",
       "      <td>3</td>\n",
       "      <td>377.970</td>\n",
       "      <td>0.0</td>\n",
       "      <td>109.6113</td>\n",
       "      <td>Sep</td>\n",
       "      <td>2013</td>\n",
       "    </tr>\n",
       "    <tr>\n",
       "      <th>1</th>\n",
       "      <td>6288</td>\n",
       "      <td>CA-2011-100090</td>\n",
       "      <td>2013-07-08</td>\n",
       "      <td>41467</td>\n",
       "      <td>Standard Class</td>\n",
       "      <td>EB-13705</td>\n",
       "      <td>Ed Braxton</td>\n",
       "      <td>Corporate</td>\n",
       "      <td>United States</td>\n",
       "      <td>San Francisco</td>\n",
       "      <td>...</td>\n",
       "      <td>Furniture</td>\n",
       "      <td>Tables</td>\n",
       "      <td>Hon 2111 Invitation Series Corner Table</td>\n",
       "      <td>167.496</td>\n",
       "      <td>3</td>\n",
       "      <td>502.488</td>\n",
       "      <td>0.2</td>\n",
       "      <td>-87.9354</td>\n",
       "      <td>Jul</td>\n",
       "      <td>2013</td>\n",
       "    </tr>\n",
       "  </tbody>\n",
       "</table>\n",
       "<p>2 rows × 24 columns</p>\n",
       "</div>"
      ],
      "text/plain": [
       "   Row ID        Order ID Order Date  Ship Date       Ship Mode Customer ID  \\\n",
       "0    2718  CA-2011-100006 2013-09-07      41530  Standard Class    DK-13375   \n",
       "1    6288  CA-2011-100090 2013-07-08      41467  Standard Class    EB-13705   \n",
       "\n",
       "  Customer Name    Segment        Country           City     ...      \\\n",
       "0   Dennis Kane   Consumer  United States  New York City     ...       \n",
       "1    Ed Braxton  Corporate  United States  San Francisco     ...       \n",
       "\n",
       "     Category  Sub-Category                             Product Name  \\\n",
       "0  Technology        Phones                        AT&T EL51110 DECT   \n",
       "1   Furniture        Tables  Hon 2111 Invitation Series Corner Table   \n",
       "\n",
       "  Item Price   Quantity SalesTotal Discount    Profit  Order month  Order year  \n",
       "0      125.990        3    377.970      0.0  109.6113          Sep        2013  \n",
       "1      167.496        3    502.488      0.2  -87.9354          Jul        2013  \n",
       "\n",
       "[2 rows x 24 columns]"
      ]
     },
     "execution_count": 285,
     "metadata": {},
     "output_type": "execute_result"
    }
   ],
   "source": [
    "quant_df['Order Date']\n",
    "quant_df['Order month'] = quant_df['Order Date'].dt.month\n",
    "quant_df['Order month'] = quant_df['Order month'].apply(lambda x: calendar.month_abbr[x])\n",
    "quant_df['Order year'] = quant_df['Order Date'].dt.year\n",
    "quant_df.head(2)"
   ]
  },
  {
   "cell_type": "markdown",
   "metadata": {},
   "source": [
    "## Which  month shows the maximum order?"
   ]
  },
  {
   "cell_type": "code",
   "execution_count": 256,
   "metadata": {
    "collapsed": false
   },
   "outputs": [
    {
     "data": {
      "text/plain": [
       "[<matplotlib.text.Text at 0x14b337b8>, <matplotlib.text.Text at 0x1452e550>]"
      ]
     },
     "execution_count": 256,
     "metadata": {},
     "output_type": "execute_result"
    },
    {
     "data": {
      "image/png": "[encoded data removed]",
      "text/plain": [
       "<matplotlib.figure.Figure at 0x13ed9d68>"
      ]
     },
     "metadata": {},
     "output_type": "display_data"
    }
   ],
   "source": [
    "orders_by_month = quant_df.groupby(by='Order month')['Order ID'].nunique()\n",
    "orders_by_month_df =pd.DataFrame(orders_by_month)\n",
    "orders_by_month_df.reset_index(inplace=True)\n",
    "orders_by_month_df\n",
    "sns.barplot(x='Order month', y='Order ID', data =orders_by_month_df, x_order=['Jan','Feb','Mar','Apr','May','Jun','Jul','Aug','Sep','Oct','Nov','Dec']).set(title='Orders per month', ylabel='Order Count')"
   ]
  },
  {
   "cell_type": "code",
   "execution_count": null,
   "metadata": {
    "collapsed": true
   },
   "outputs": [],
   "source": [
    "# Observations: Item price of the chairs is listed incorrectly int he dataset and needs to be changed"
   ]
  },
  {
   "cell_type": "code",
   "execution_count": 261,
   "metadata": {
    "collapsed": false
   },
   "outputs": [
    {
     "data": {
      "text/plain": [
       "Sub-Category\n",
       "Binders        222\n",
       "Paper          193\n",
       "Furnishings    148\n",
       "Phones         133\n",
       "Storage        127\n",
       "Accessories    126\n",
       "Art            108\n",
       "Chairs          95\n",
       "Appliances      66\n",
       "Labels          45\n",
       "Tables          43\n",
       "Envelopes       42\n",
       "Fasteners       36\n",
       "Bookcases       35\n",
       "Supplies        27\n",
       "Machines        21\n",
       "Copiers          7\n",
       "Name: Sub-Category, dtype: int64"
      ]
     },
     "execution_count": 261,
     "metadata": {},
     "output_type": "execute_result"
    }
   ],
   "source": [
    "nov_df=quant_df[quant_df['Order month']=='Nov']\n",
    "nov_df.groupby('Sub-Category')['Sub-Category'].count().sort_values(ascending=False)"
   ]
  },
  {
   "cell_type": "code",
   "execution_count": 267,
   "metadata": {
    "collapsed": false
   },
   "outputs": [
    {
     "data": {
      "text/plain": [
       "Sub-Category\n",
       "Binders        43\n",
       "Paper          41\n",
       "Phones         33\n",
       "Furnishings    31\n",
       "Accessories    25\n",
       "Storage        24\n",
       "Art            18\n",
       "Chairs         17\n",
       "Appliances     16\n",
       "Labels         13\n",
       "Fasteners      12\n",
       "Tables          8\n",
       "Bookcases       7\n",
       "Envelopes       6\n",
       "Supplies        3\n",
       "Machines        2\n",
       "Name: Sub-Category, dtype: int64"
      ]
     },
     "execution_count": 267,
     "metadata": {},
     "output_type": "execute_result"
    }
   ],
   "source": [
    "nov_df=quant_df[quant_df['Order month']=='Feb']\n",
    "nov_df.groupby('Sub-Category')['Sub-Category'].count().sort_values(ascending=False)"
   ]
  },
  {
   "cell_type": "code",
   "execution_count": null,
   "metadata": {
    "collapsed": false
   },
   "outputs": [],
   "source": [
    "\n",
    "#s = pd.Series([])\n",
    "#from xlrd.xldate import xldate_as_tuple\n",
    "#from datetime import datetime\n",
    "#s.apply(lambda x: datetime(*xldate_as_tuple(x, 0)))"
   ]
  },
  {
   "cell_type": "code",
   "execution_count": 270,
   "metadata": {
    "collapsed": false
   },
   "outputs": [
    {
     "data": {
      "text/html": [
       "<div>\n",
       "<table border=\"1\" class=\"dataframe\">\n",
       "  <thead>\n",
       "    <tr style=\"text-align: right;\">\n",
       "      <th></th>\n",
       "      <th>Row ID</th>\n",
       "      <th>Ship Date</th>\n",
       "      <th>Postal Code</th>\n",
       "      <th>Item Price</th>\n",
       "      <th>Quantity</th>\n",
       "      <th>SalesTotal</th>\n",
       "      <th>Discount</th>\n",
       "      <th>Profit</th>\n",
       "    </tr>\n",
       "  </thead>\n",
       "  <tbody>\n",
       "    <tr>\n",
       "      <th>Row ID</th>\n",
       "      <td>1.000000</td>\n",
       "      <td>0.010639</td>\n",
       "      <td>0.009671</td>\n",
       "      <td>0.018908</td>\n",
       "      <td>-0.004016</td>\n",
       "      <td>-0.001359</td>\n",
       "      <td>0.013480</td>\n",
       "      <td>0.012497</td>\n",
       "    </tr>\n",
       "    <tr>\n",
       "      <th>Ship Date</th>\n",
       "      <td>0.010639</td>\n",
       "      <td>1.000000</td>\n",
       "      <td>0.010777</td>\n",
       "      <td>-0.019725</td>\n",
       "      <td>0.000204</td>\n",
       "      <td>-0.009565</td>\n",
       "      <td>-0.003869</td>\n",
       "      <td>0.004352</td>\n",
       "    </tr>\n",
       "    <tr>\n",
       "      <th>Postal Code</th>\n",
       "      <td>0.009671</td>\n",
       "      <td>0.010777</td>\n",
       "      <td>1.000000</td>\n",
       "      <td>0.010252</td>\n",
       "      <td>0.012761</td>\n",
       "      <td>-0.023854</td>\n",
       "      <td>0.058443</td>\n",
       "      <td>-0.029961</td>\n",
       "    </tr>\n",
       "    <tr>\n",
       "      <th>Item Price</th>\n",
       "      <td>0.018908</td>\n",
       "      <td>-0.019725</td>\n",
       "      <td>0.010252</td>\n",
       "      <td>1.000000</td>\n",
       "      <td>0.011169</td>\n",
       "      <td>0.467772</td>\n",
       "      <td>-0.015969</td>\n",
       "      <td>0.250313</td>\n",
       "    </tr>\n",
       "    <tr>\n",
       "      <th>Quantity</th>\n",
       "      <td>-0.004016</td>\n",
       "      <td>0.000204</td>\n",
       "      <td>0.012761</td>\n",
       "      <td>0.011169</td>\n",
       "      <td>1.000000</td>\n",
       "      <td>0.200795</td>\n",
       "      <td>0.008623</td>\n",
       "      <td>0.066253</td>\n",
       "    </tr>\n",
       "    <tr>\n",
       "      <th>SalesTotal</th>\n",
       "      <td>-0.001359</td>\n",
       "      <td>-0.009565</td>\n",
       "      <td>-0.023854</td>\n",
       "      <td>0.467772</td>\n",
       "      <td>0.200795</td>\n",
       "      <td>1.000000</td>\n",
       "      <td>-0.028190</td>\n",
       "      <td>0.479064</td>\n",
       "    </tr>\n",
       "    <tr>\n",
       "      <th>Discount</th>\n",
       "      <td>0.013480</td>\n",
       "      <td>-0.003869</td>\n",
       "      <td>0.058443</td>\n",
       "      <td>-0.015969</td>\n",
       "      <td>0.008623</td>\n",
       "      <td>-0.028190</td>\n",
       "      <td>1.000000</td>\n",
       "      <td>-0.219487</td>\n",
       "    </tr>\n",
       "    <tr>\n",
       "      <th>Profit</th>\n",
       "      <td>0.012497</td>\n",
       "      <td>0.004352</td>\n",
       "      <td>-0.029961</td>\n",
       "      <td>0.250313</td>\n",
       "      <td>0.066253</td>\n",
       "      <td>0.479064</td>\n",
       "      <td>-0.219487</td>\n",
       "      <td>1.000000</td>\n",
       "    </tr>\n",
       "  </tbody>\n",
       "</table>\n",
       "</div>"
      ],
      "text/plain": [
       "                Row ID  Ship Date  Postal Code  Item Price    Quantity  \\\n",
       "Row ID        1.000000   0.010639     0.009671      0.018908 -0.004016   \n",
       "Ship Date     0.010639   1.000000     0.010777     -0.019725  0.000204   \n",
       "Postal Code   0.009671   0.010777     1.000000      0.010252  0.012761   \n",
       "Item Price    0.018908  -0.019725     0.010252      1.000000  0.011169   \n",
       "Quantity     -0.004016   0.000204     0.012761      0.011169  1.000000   \n",
       "SalesTotal   -0.001359  -0.009565    -0.023854      0.467772  0.200795   \n",
       "Discount      0.013480  -0.003869     0.058443     -0.015969  0.008623   \n",
       "Profit        0.012497   0.004352    -0.029961      0.250313  0.066253   \n",
       "\n",
       "              SalesTotal  Discount    Profit  \n",
       "Row ID         -0.001359  0.013480  0.012497  \n",
       "Ship Date      -0.009565 -0.003869  0.004352  \n",
       "Postal Code    -0.023854  0.058443 -0.029961  \n",
       "Item Price      0.467772 -0.015969  0.250313  \n",
       "Quantity        0.200795  0.008623  0.066253  \n",
       "SalesTotal      1.000000 -0.028190  0.479064  \n",
       "Discount       -0.028190  1.000000 -0.219487  \n",
       "Profit          0.479064 -0.219487  1.000000  "
      ]
     },
     "execution_count": 270,
     "metadata": {},
     "output_type": "execute_result"
    }
   ],
   "source": [
    "quant_df.corr()"
   ]
  },
  {
   "cell_type": "code",
   "execution_count": null,
   "metadata": {
    "collapsed": true
   },
   "outputs": [],
   "source": [
    "Assumptions\n",
    "\n",
    "# 1. Naming convention issues in Corporate segment. In some cases a blank space appears after the word.\n",
    "# Had to make it consistent\n",
    "# 2. Incorrect Item price for rowID 6570\n"
   ]
  }
 ],
 "metadata": {
  "kernelspec": {
   "display_name": "Python 2",
   "language": "python",
   "name": "python2"
  },
  "language_info": {
   "codemirror_mode": {
    "name": "ipython",
    "version": 2
   },
   "file_extension": ".py",
   "mimetype": "text/x-python",
   "name": "python",
   "nbconvert_exporter": "python",
   "pygments_lexer": "ipython2",
   "version": "2.7.13"
  }
 },
 "nbformat": 4,
 "nbformat_minor": 2
}
